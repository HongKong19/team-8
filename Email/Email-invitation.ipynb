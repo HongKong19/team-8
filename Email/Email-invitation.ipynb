{
 "cells": [
  {
   "cell_type": "code",
   "execution_count": 22,
   "metadata": {},
   "outputs": [
    {
     "name": "stdout",
     "output_type": "stream",
     "text": [
      "jpeg\n"
     ]
    }
   ],
   "source": [
    "import os\n",
    "import smtplib\n",
    "import imghdr\n",
    "from email.message import EmailMessage\n",
    "\n",
    "EMAIL_ADDRESS = 'premiere.performances.test@gmail.com'\n",
    "EMAIL_PASSWORD = ''\n",
    "\n",
    "contacts = ['YourAddress@gmail.com', 'test@example.com']\n",
    "\n",
    "msg = EmailMessage()\n",
    "msg['Subject'] = 'Invitation to our upcoming events!'\n",
    "msg['From'] = EMAIL_ADDRESS\n",
    "msg['To'] = 'ap.pksh@gmail.com'\n",
    "\n",
    "msg.set_content('Hi!, premiere performances is currently holding an event today 18/9/2019 \\n\\nWe hope to meet you here!')\n",
    "with open('test.jpg', 'rb') as f:\n",
    "    file_data = f.read()\n",
    "    file_type = imghdr.what(f.name)\n",
    "    print(file_type)\n",
    "\n",
    "msg.add_attachment(file_data, maintype = 'image', subtype = file_type)\n",
    "\n",
    "with smtplib.SMTP_SSL('smtp.gmail.com', 465) as smtp:\n",
    "    smtp.login(EMAIL_ADDRESS, EMAIL_PASSWORD)\n",
    "    smtp.send_message(msg)\n",
    "\n"
   ]
  },
  {
   "cell_type": "code",
   "execution_count": null,
   "metadata": {},
   "outputs": [],
   "source": []
  }
 ],
 "metadata": {
  "kernelspec": {
   "display_name": "Python 3",
   "language": "python",
   "name": "python3"
  },
  "language_info": {
   "codemirror_mode": {
    "name": "ipython",
    "version": 3
   },
   "file_extension": ".py",
   "mimetype": "text/x-python",
   "name": "python",
   "nbconvert_exporter": "python",
   "pygments_lexer": "ipython3",
   "version": "3.7.3"
  }
 },
 "nbformat": 4,
 "nbformat_minor": 2
}
